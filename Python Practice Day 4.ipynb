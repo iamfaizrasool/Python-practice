{
  "metadata": {
    "kernelspec": {
      "name": "python",
      "display_name": "Python (Pyodide)",
      "language": "python"
    },
    "language_info": {
      "codemirror_mode": {
        "name": "python",
        "version": 3
      },
      "file_extension": ".py",
      "mimetype": "text/x-python",
      "name": "python",
      "nbconvert_exporter": "python",
      "pygments_lexer": "ipython3",
      "version": "3.8"
    }
  },
  "nbformat_minor": 5,
  "nbformat": 4,
  "cells": [
    {
      "id": "18ecf40b-bcda-4f3d-8095-96b39223cd1d",
      "cell_type": "code",
      "source": "#Immutable Days of Week\n#Store all days of the week in a tuple.\n\n#print the weekend days using slicing.\n\n#Check if \"Friday\" is in the tuple.\n\nweek_days = (\"Monday\", \"Tuesday\",\"Wednesday\", \"Thursday\", \"Friday\", \"Saturday\", \"Sunday\")\nprint(week_days[5:])\n\nif \"Friday\" in week_days:\n    print(\"Friday exists\")\nelse:\n    print(\"friday don't exist\")",
      "metadata": {
        "trusted": true
      },
      "outputs": [
        {
          "name": "stdout",
          "output_type": "stream",
          "text": "('Saturday', 'Sunday')\nFriday exists\n"
        }
      ],
      "execution_count": 4
    },
    {
      "id": "959dde09-421a-4b1b-991d-e0a735fb41ff",
      "cell_type": "code",
      "source": "#Coordinates Storage\n#Store the coordinates of three cities:\n#(\"Lahore\", 31.52, 74.35), (\"Karachi\", 24.86, 67.00), (\"Islamabad\", 33.68, 73.04).\n#Print city names with their coordinates.\n\nstorage_coordinates = (\n    (\"Lahore\", 31.52, 74.35),\n    (\"Karachi\", 24.86, 67.00),\n    (\"Islamabad\", 33.68, 73.04)\n)\n\nfor coordinate in storage_coordinates:\n    city = coordinate[0]\n    x_cord = coordinate[1]\n    y_cord = coordinate[2]\n    print(f\"{city} coordinates are {x_cord} and {y_cord}\")",
      "metadata": {
        "trusted": true
      },
      "outputs": [
        {
          "name": "stdout",
          "output_type": "stream",
          "text": "Lahore coordinates are 31.52 and 74.35\nKarachi coordinates are 24.86 and 67.0\nIslamabad coordinates are 33.68 and 73.04\n"
        }
      ],
      "execution_count": 7
    },
    {
      "id": "ad89f0b9-ad56-401e-8049-59239064858c",
      "cell_type": "code",
      "source": "#Packing and Unpacking\n#Create a tuple (\"Python\", \"JavaScript\", \"C++\") and unpack into 3 variables. Print them.\n\nlanguages = (\"Python\", \"JavaScript\", \"C++\")\n(AI, Web, Old) = languages\nprint(AI)\nprint(Web)\nprint(Old)",
      "metadata": {
        "trusted": true
      },
      "outputs": [
        {
          "name": "stdout",
          "output_type": "stream",
          "text": "Python\nJavaScript\nC++\n"
        }
      ],
      "execution_count": 8
    },
    {
      "id": "2848abe9-0c9d-44b9-b6ff-bcc9f1c56e11",
      "cell_type": "code",
      "source": "#Student Record\n#Create a tuple: (name, roll_no, grade). Print each element with a label.\n\nstudent_record = (\"Faiz\", 88, \"A+\")\nprint(f\"Name:  {student_record[0]}\")\nprint(f\"roll_no:  {student_record[1]}\")\nprint(f\"grade :  {student_record[2]}\")",
      "metadata": {
        "trusted": true
      },
      "outputs": [
        {
          "name": "stdout",
          "output_type": "stream",
          "text": "Name:  Faiz\nroll_no:  88\ngrade :  A+\n"
        }
      ],
      "execution_count": 11
    },
    {
      "id": "0bbba081-1954-43b8-9cd3-81361430aae8",
      "cell_type": "code",
      "source": "#Return Multiple Values\n#Write a function that takes length and width and returns both area and perimeter as a tuple. Print both values.\n\n\nlength = int(input(\"Enter the length\"))\nwidth = int(input(\"Enter the width\"))\n\narea = length * width\nperimiter = 2 * (length + width)\n\narea_per = (area , perimiter)\nprint(area_per)",
      "metadata": {
        "trusted": true
      },
      "outputs": [
        {
          "output_type": "stream",
          "name": "stdin",
          "text": "Enter the length 20\nEnter the width 40\n"
        },
        {
          "name": "stdout",
          "output_type": "stream",
          "text": "(800, 120)\n"
        }
      ],
      "execution_count": 16
    },
    {
      "id": "fe04af36-5239-47f1-abaf-0690bfcd0352",
      "cell_type": "code",
      "source": "#Immutable Menu\n#Sto0re 5 dishes in a tuple for a restaurant menu. Print them in a nice format.\n\nrestaurant_menu = (\"Biryani\", \"Chicken\", \"Mutton\", \"Korma\", \"Custered\")\nprint(\"Here is the menu of restaurant\")\nprint(restaurant_menu[0])\nprint(restaurant_menu[1])\nprint(restaurant_menu[2])\nprint(restaurant_menu[3])\nprint(restaurant_menu[4])",
      "metadata": {
        "trusted": true
      },
      "outputs": [
        {
          "name": "stdout",
          "output_type": "stream",
          "text": "Here is the menu of restaurant\nBiryani\nChicken\nMutton\nKorma\nCustered\n"
        }
      ],
      "execution_count": 18
    },
    {
      "id": "8e06facc-af38-47d6-a23d-72ef9f808b74",
      "cell_type": "code",
      "source": "#Find Index of Item\n#Tuple: colors = (\"red\", \"blue\", \"green\", \"yellow\"). Find the index of \"green\".\n\n\ncolors = (\"red\", \"blue\", \"green\", \"yellow\")\nprint(colors.index(\"green\"))\ncolorss = [\"red\", \"blue\", \"green\", \"yellow\"]\nprint(colorss.index(\"yellow\"))\n\n",
      "metadata": {
        "trusted": true
      },
      "outputs": [
        {
          "name": "stdout",
          "output_type": "stream",
          "text": "2\n3\n"
        }
      ],
      "execution_count": 20
    },
    {
      "id": "fa1366ae-ba93-4c55-a744-eb7c90aa1b2d",
      "cell_type": "code",
      "source": "#Count Occurrences\n#Tuple: nums = (10, 20, 30, 20, 40, 20). Count how many times 20 appears.\n\nnums = (10, 20, 30, 20, 40, 20)\nprint(nums.count(20))",
      "metadata": {
        "trusted": true
      },
      "outputs": [
        {
          "name": "stdout",
          "output_type": "stream",
          "text": "3\n"
        }
      ],
      "execution_count": 21
    },
    {
      "id": "4bb29562-00e8-4f50-ba48-6e189206f5a2",
      "cell_type": "code",
      "source": "#Convert Tuple to List\n#Tuple: (\"Apple\", \"Banana\", \"Orange\"). Convert to a list and add \"Mango\".\n\nfruits = (\"Apple\", \"Banana\", \"Orange\")\nfruits_list = list(fruits)\nprint(fruits_list)\nfruits_list.append(\"Mango\")\nprint(fruits_list)",
      "metadata": {
        "trusted": true
      },
      "outputs": [
        {
          "name": "stdout",
          "output_type": "stream",
          "text": "['Apple', 'Banana', 'Orange']\n['Apple', 'Banana', 'Orange', 'Mango']\n"
        }
      ],
      "execution_count": 24
    },
    {
      "id": "24f7e786-57a1-4260-bd2e-39ae798d984c",
      "cell_type": "code",
      "source": "#Sort Tuple\n#Tuple: (45, 67, 89, 23). Convert to list, sort ascending, then convert back to tuple.\n\nnumbers = (45, 67, 89, 23)\nnumbers_list = list(numbers)\nnumbers_list.sort()\nnumbers = tuple(numbers_list)\nprint(numbers)",
      "metadata": {
        "trusted": true
      },
      "outputs": [
        {
          "name": "stdout",
          "output_type": "stream",
          "text": "(23, 45, 67, 89)\n"
        }
      ],
      "execution_count": 25
    },
    {
      "id": "83b4c31c-4188-4fd3-95f9-0bbc5f466187",
      "cell_type": "code",
      "source": "#Tuple Concatenation\n#Combine two tuples: (\"Ali\", \"Sara\") and (\"Zain\", \"Noor\"). Print the new tuple.\n\ntuple_one = (\"Ali\", \"Sara\")\ntuple_two = (\"Zain\", \"Noor\")\n\ntuples = tuple_one + tuple_two\nprint(tuples)",
      "metadata": {
        "trusted": true
      },
      "outputs": [
        {
          "name": "stdout",
          "output_type": "stream",
          "text": "('Ali', 'Sara', 'Zain', 'Noor')\n"
        }
      ],
      "execution_count": 26
    },
    {
      "id": "c65d8706-d61c-4da6-91f3-68dbead4ab2d",
      "cell_type": "code",
      "source": "#Nested Tuple (Employees)\n#Create a tuple with 3 employees:\n#((\"Ali\", \"HR\"), (\"Sara\", \"Finance\"), (\"Zain\", \"IT\")).\n#Print each employee’s name with department.\n\nemployees =(\n    (\"Ali\", \"HR\"),\n    (\"Sara\", \"Finance\"),\n    (\"Zain\", \"IT\")\n)\n\nfor e in employees:\n    name = e[0]\n    department = e[1]\n    print(f\"{name} is from {department} department\") \n    ",
      "metadata": {
        "trusted": true
      },
      "outputs": [
        {
          "name": "stdout",
          "output_type": "stream",
          "text": "Ali is from HR department\nSara is from Finance department\nZain is from IT department\n"
        }
      ],
      "execution_count": 29
    },
    {
      "id": "6ac11706-a5b3-479b-ae32-805f3a55a5f5",
      "cell_type": "code",
      "source": "#Slice Practice\n#Tuple: (100, 200, 300, 400, 500). Print:\n\n#First 3 elements\n\n#Last 2 elements\n\nnumbers = (100, 200, 300, 400, 500)\nprint(numbers[0:3])\nprint(numbers[-2:])",
      "metadata": {
        "trusted": true
      },
      "outputs": [
        {
          "name": "stdout",
          "output_type": "stream",
          "text": "(100, 200, 300)\n(400, 500)\n"
        }
      ],
      "execution_count": 30
    },
    {
      "id": "f0c42492-418d-420f-be3d-959c94cee056",
      "cell_type": "code",
      "source": "#Tuple: fruits = (\"apple\", \"banana\", \"mango\", \"orange\"). Print how many elements it has.\n\nfruits = (\"apple\", \"banana\", \"mango\", \"orange\")\nprint(len(fruits))",
      "metadata": {
        "trusted": true
      },
      "outputs": [
        {
          "name": "stdout",
          "output_type": "stream",
          "text": "4\n"
        }
      ],
      "execution_count": 32
    },
    {
      "id": "c949367a-b693-4dc7-a007-cdb5cdacb740",
      "cell_type": "code",
      "source": "#Reverse Tuple\n#Tuple: (10, 20, 30, 40). Print reversed tuple without using reverse().\n\nnumbers = (10, 20, 30, 40)\n#numbers_list = list(numbers)\n#numbers_list.sort(reverse = True)\n#numbers = tuple(numbers_list)\n#print(numbers)\n\na",
      "metadata": {
        "trusted": true
      },
      "outputs": [
        {
          "name": "stdout",
          "output_type": "stream",
          "text": "(40, 30, 20, 10)\n"
        }
      ],
      "execution_count": 35
    },
    {
      "id": "19be36fc-e464-41c1-a4d3-4e817adc58ac",
      "cell_type": "code",
      "source": "",
      "metadata": {
        "trusted": true
      },
      "outputs": [],
      "execution_count": null
    }
  ]
}