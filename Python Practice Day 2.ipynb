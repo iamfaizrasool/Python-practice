{
  "metadata": {
    "kernelspec": {
      "name": "python",
      "display_name": "Python (Pyodide)",
      "language": "python"
    },
    "language_info": {
      "codemirror_mode": {
        "name": "python",
        "version": 3
      },
      "file_extension": ".py",
      "mimetype": "text/x-python",
      "name": "python",
      "nbconvert_exporter": "python",
      "pygments_lexer": "ipython3",
      "version": "3.8"
    }
  },
  "nbformat_minor": 5,
  "nbformat": 4,
  "cells": [
    {
      "id": "573fb469-261b-47d1-8572-9fd3f3428642",
      "cell_type": "code",
      "source": "#1Grocery Budget Tracker\n#You start with $100. You buy milk for $5, bread for $2.5, and eggs for $4.\n\n#Store each item price in a variable.\n\n#Update your budget after each purchase and print the remaining amount.\n\nTotal_amount = 100\nmilk = 5\nbread = 2.5\neggs = 4\n\ntotal_amount_spent= milk + bread + eggs\nremaining_amount = Total_amount - total_amount_spent\nprint(f\"Your remaining amount is , {remaining_amount}$\")",
      "metadata": {
        "trusted": true
      },
      "outputs": [
        {
          "name": "stdout",
          "output_type": "stream",
          "text": "Your remaining amount is , 88.5$\n"
        }
      ],
      "execution_count": 6
    },
    {
      "id": "d77febf6-57aa-4710-8e84-3277cd298c5e",
      "cell_type": "code",
      "source": "#2Multiple Assignments in One Line\n#Assign your name, age, and country to three variables in one line, and print them.\n\nname, age, country = \"faiz\", 20, \"Pakistan\"\nprint(name)\nprint(age)\nprint(country)\nprint(name, age, country)",
      "metadata": {
        "trusted": true
      },
      "outputs": [
        {
          "name": "stdout",
          "output_type": "stream",
          "text": "faiz\n20\nPakistan\nfaiz 20 Pakistan\n"
        }
      ],
      "execution_count": 9
    },
    {
      "id": "7c013063-e254-4963-a658-48b355806a63",
      "cell_type": "code",
      "source": "#3Swapping Variables Without a Temp Variable\n#You have two variables:\n\n\n\na = 5\nb = 10\na = b\nb = a\n\nprint(a)\nprint(b)",
      "metadata": {
        "trusted": true
      },
      "outputs": [
        {
          "name": "stdout",
          "output_type": "stream",
          "text": "10\n10\n"
        }
      ],
      "execution_count": 14
    },
    {
      "id": "50b07e3f-481f-44e8-924f-41804730525b",
      "cell_type": "code",
      "source": "#4Dynamic Welcome Message\n#Store a customer’s name and their favorite product. Print:\n#\"Hi Zara, we hope you enjoy your new headphones!\"\n#(Hint: Use variables for name and product)\n\ncustomer_name = input(\"Enter your name\")\nfavorite_product = input(\"Enter your name\")\n\nprint(f\"Hi {customer_name},we hope you enjoy your new {favorite_product}\")",
      "metadata": {
        "trusted": true
      },
      "outputs": [
        {
          "output_type": "stream",
          "name": "stdin",
          "text": "Enter your name Faiz\nEnter your name Laptop\n"
        },
        {
          "name": "stdout",
          "output_type": "stream",
          "text": "Hi Faiz,we hope you enjoy your new Laptop\n"
        }
      ],
      "execution_count": 4
    },
    {
      "id": "934e1f25-0d98-49da-bc7f-7b7a41e0abb4",
      "cell_type": "code",
      "source": "#5Monthly Salary Tracker\n#A freelancer earns ₹35,000 per project.\n\n#Store number of projects as a variable.\n\n#Calculate the total monthly salary based on projects completed.\n\n\nProject_completed = int(input(\"Enter number of projects completed\"))\nper_project_price = 35000\nmonthly_salary = Project_completed * per_project_price\nprint(f\"your monthly salary is {monthly_salary}\")",
      "metadata": {
        "trusted": true
      },
      "outputs": [
        {
          "output_type": "stream",
          "name": "stdin",
          "text": "Enter number of projects completed 5\n"
        },
        {
          "name": "stdout",
          "output_type": "stream",
          "text": "your monthly salary is 175000\n"
        }
      ],
      "execution_count": 11
    },
    {
      "id": "aa611f66-cffe-4487-84c3-f13309219154",
      "cell_type": "code",
      "source": "#6Restaurant Bill Splitter\n#You and 3 friends went to a restaurant. The total bill is ₹2,400.\n\n#Use variables to store the total and number of people.\n\n#Print how much each person should pay.\n\nnumber_of_people = 3\ntotal_bill = 2400\nsplit_bill = total_bill / number_of_people\nprint(f\"Each person should pay {split_bill} Ruppes\")",
      "metadata": {
        "trusted": true
      },
      "outputs": [
        {
          "name": "stdout",
          "output_type": "stream",
          "text": "Each person should pay 800.0 Ruppes\n"
        }
      ],
      "execution_count": 10
    },
    {
      "id": "b3de008a-f924-49e1-9b29-cf18487bab7a",
      "cell_type": "code",
      "source": "#7Reassigning Variables\n#You plan a 7-day trip. Each day you spend a different amount.\n\n#Start with a variable total_spent = 0.\n\n#Add daily expenses using += and print the final amount.\n\ntotal_spent = 0 \ntotal_spent += 10\ntotal_spent += 20\ntotal_spent += 30\ntotal_spent += 40\ntotal_spent += 40\ntotal_spent += 60\ntotal_spent += 70\n\nprint(total_spent)",
      "metadata": {
        "trusted": true
      },
      "outputs": [
        {
          "name": "stdout",
          "output_type": "stream",
          "text": "270\n"
        }
      ],
      "execution_count": 14
    },
    {
      "id": "dd40ab58-07d3-4fe8-b6ef-f984a21aa4b0",
      "cell_type": "code",
      "source": "#8Variable Naming Cleanup\n#Look at this messy code and improve variable names for clarity:\n\n#x = \"Ali\"\n#y = 23\n#z = \"Pakistan\"\n#Change them to meaningful names and reprint the same sentence:\n#\"Ali is 23 years old and lives in Pakistan.\"\n\nperson_name = \"Ali\"\nperson_age = 23\nperson_country = \"Pakistan\"\n\nprint(f\"{person_name} is {person_age} years old and lives in {person_country}\")",
      "metadata": {
        "trusted": true
      },
      "outputs": [
        {
          "name": "stdout",
          "output_type": "stream",
          "text": "Ali is 23 years old and lives in Pakistan\n"
        }
      ],
      "execution_count": 16
    },
    {
      "id": "edee6ec6-64a7-47b1-aab1-db661f39d4d0",
      "cell_type": "code",
      "source": "#9Temperature Logger\n#Record temperatures in Celsius for Morning, Afternoon, and Evening using three variables.\n#Print the average temperature.\n\nmorning_temp = int(input(\"Enter morning temperature\"))\nafternoon_temp = int(input(\"Enter afternoon temperature\"))\nevening_temp = int(input(\"Enter evening temperature\"))\n\ntemp_readings = 3\nsum_temp = morning_temp + afternoon_temp + evening_temp\naverage_temp =  sum_temp /temp_readings\nprint(f\" Todays average temperature is {average_temp} cesius\")",
      "metadata": {
        "trusted": true
      },
      "outputs": [
        {
          "output_type": "stream",
          "name": "stdin",
          "text": "Enter morning temperature 20\nEnter afternoon temperature 30\nEnter evening temperature 40\n"
        },
        {
          "name": "stdout",
          "output_type": "stream",
          "text": " Todays average temperature is 30.0 cesius\n"
        }
      ],
      "execution_count": 22
    },
    {
      "id": "356be026-e5d7-4fa2-bbe0-4efcc35a50bb",
      "cell_type": "code",
      "source": "#10Electricity Cost Calculator\n#Store units_used = 350 and rate_per_unit = 9.5.\n#Calculate total bill. If units used are more than 300, add a surcharge of ₹100.\n\nunits_used = 350\nrate_per_unit = 9.5\nsurcharge_amount = 100\ntotal_bill = units_used * rate_per_unit + surcharge_amount\nprint(f\"your total bill is {total_bill} with surcharge amount of 100\")",
      "metadata": {
        "trusted": true
      },
      "outputs": [
        {
          "name": "stdout",
          "output_type": "stream",
          "text": "your total bill is 3425.0 with surcharge amount of 100\n"
        }
      ],
      "execution_count": 23
    },
    {
      "id": "17a98df7-9b30-46e3-85b8-669a96eaba64",
      "cell_type": "code",
      "source": "#11Tax Estimator\n#A person earns ₹75,000 per month.\n\n#Store income and tax_rate = 12%.\n\n#Calculate monthly tax and income after tax.\n\nperson_earning = 75000\ntax_rate = 12\n\nmonthly_tax = person_earning * (tax_rate/100)\nincome_after_tax = person_earning - monthly_tax\nprint(monthly_tax)\nprint(income_after_tax)\n",
      "metadata": {
        "trusted": true
      },
      "outputs": [
        {
          "name": "stdout",
          "output_type": "stream",
          "text": "9000.0\n66000.0\n"
        }
      ],
      "execution_count": 24
    },
    {
      "id": "28fb10f9-2e90-4272-8a39-9f5b13e33fb1",
      "cell_type": "code",
      "source": "#12Combine Two Variables into One String\n#Store a first_name and last_name and combine them into a full name with proper spacing.\n\nfirst_name = \"Faiz\"\nlast_name = \"Rasool\"\nfull_name = first_name +\" \" + last_name \nprint(full_name)",
      "metadata": {
        "trusted": true
      },
      "outputs": [
        {
          "name": "stdout",
          "output_type": "stream",
          "text": "Faiz Rasool\n"
        }
      ],
      "execution_count": 28
    },
    {
      "id": "2a368dc3-4013-47f2-a715-706a4b87655e",
      "cell_type": "code",
      "source": "#13Overwriting Variables (and Why to Avoid It)\n#Create a variable original_price = 1000. Then by mistake, reassign it as:\n\n#original_price = original_price - 100\n#original_price = 50\n#Print the result. Then explain why overwriting meaningful values is risky in real code.\n\noriginal_price = 1000\noriginal_price = original_price - 100\noriginal_price = 50\nprint(original_price)",
      "metadata": {
        "trusted": true
      },
      "outputs": [
        {
          "name": "stdout",
          "output_type": "stream",
          "text": "50\n"
        }
      ],
      "execution_count": 29
    },
    {
      "id": "f8e9d6f8-feaf-429c-975e-70bdd82c9888",
      "cell_type": "code",
      "source": "#14Chained Assignment Practice\n#Set the same value of 0 to three variables: a, b, and c in one line.\n\na,b,c = 0, 0 , 0\nprint(a)\nprint(b)\nprint(c)",
      "metadata": {
        "trusted": true
      },
      "outputs": [
        {
          "name": "stdout",
          "output_type": "stream",
          "text": "0\n0\n0\n"
        }
      ],
      "execution_count": 31
    },
    {
      "id": "ecf5a523-574a-45b2-9fb8-3720f98587bc",
      "cell_type": "code",
      "source": "#15Create a variable x = 10 outside a function.\n#Inside a function, create a variable with the same name x = 20.\n#Print both and explain the output.\n\nx = 10\ndef myfunction():\n    x = 20\n    print(x)\n\nprint(x)\nmyfunction()",
      "metadata": {
        "trusted": true
      },
      "outputs": [
        {
          "name": "stdout",
          "output_type": "stream",
          "text": "10\n20\n"
        }
      ],
      "execution_count": 32
    },
    {
      "id": "00a87607-5c85-4cee-a3e6-87d5e7bd8133",
      "cell_type": "code",
      "source": "",
      "metadata": {
        "trusted": true
      },
      "outputs": [],
      "execution_count": null
    }
  ]
}