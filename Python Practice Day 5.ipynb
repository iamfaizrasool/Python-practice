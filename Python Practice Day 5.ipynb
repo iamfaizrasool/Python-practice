{
  "metadata": {
    "kernelspec": {
      "name": "python",
      "display_name": "Python (Pyodide)",
      "language": "python"
    },
    "language_info": {
      "codemirror_mode": {
        "name": "python",
        "version": 3
      },
      "file_extension": ".py",
      "mimetype": "text/x-python",
      "name": "python",
      "nbconvert_exporter": "python",
      "pygments_lexer": "ipython3",
      "version": "3.8"
    }
  },
  "nbformat_minor": 5,
  "nbformat": 4,
  "cells": [
    {
      "id": "44614197-7758-4173-a205-31b09855689e",
      "cell_type": "code",
      "source": "#Login Attempt Checker\n#Hard-code a stored username and PIN. Ask user for both.\n\n#If username wrong → \"Unknown user\"\n\n#Else if PIN wrong → \"Incorrect PIN\"\n\n#Else → \"Access granted\".\n\nusername = input(\"Enter Your username\")\npin = input(\"Enter your pin\")\n\nhardcode_username = \"iamfaizrasool\"\nhardcode_pin = \"123789!@#\"\n\n\n\nif username != \"iamfaizrasool\":\n    print(\"username is wrong\")\nif pin != \"123789!@#\":\n    print(\"pin is wrong\")\nelse:\n    print(\"Access Granted\")\n",
      "metadata": {
        "trusted": true
      },
      "outputs": [
        {
          "output_type": "stream",
          "name": "stdin",
          "text": "Enter Your username iamfaizrasool\nEnter your pin 123\n"
        },
        {
          "name": "stdout",
          "output_type": "stream",
          "text": "pin is wrong\n"
        }
      ],
      "execution_count": 4
    },
    {
      "id": "fa3baff8-3876-4244-9184-36ec55e5c5b6",
      "cell_type": "code",
      "source": "#Shipping Fee Rule\n#Given order_total and destination_country variables:\n\n#If order_total ≥ 5000 → free shipping\n\n#Else if destination is not \"Pakistan\" → add 1200 international fee\n\n#Else → add 250 local fee.\n#Print final payable amount.\n\norder_total = int(input(\"Enter Your Order Total\"))\ndestination = input(\"Enter Your destination\")\n\nif order_total >= 5000:\n    print(\"free shipping\")\nif destination == \"pakistan\":\n    order_total += 250\n    print(order_total)\nif destination != \"pakistan\":\n    order_total += 1200\n    print(order_total)\n    \n",
      "metadata": {
        "trusted": true
      },
      "outputs": [
        {
          "output_type": "stream",
          "name": "stdin",
          "text": "Enter Your Order Total 2500\nEnter Your destination pakistan\n"
        },
        {
          "name": "stdout",
          "output_type": "stream",
          "text": "2750\n"
        }
      ],
      "execution_count": 8
    },
    {
      "id": "90e00ec4-aa97-49ec-a64c-dc9e0aca3848",
      "cell_type": "code",
      "source": "#Basic Age Category\n#Given an integer age:\n\n#< 13 → Child\n\n#13–17 → Teen\n\n#18–64 → Adult\n\n#65+ → Senior\n#Print category.\n\nage = int(input(\"Enter your age\"))\nif age < 13:\n    print(\"You are child\")\nelif age in range(13,17):\n    print(\"you are teen\")\nelif age in range(18,64):\n    print(\"You are adult\")\nelse:\n    (\"you are senior\")\n          \n",
      "metadata": {
        "trusted": true
      },
      "outputs": [
        {
          "output_type": "stream",
          "name": "stdin",
          "text": "Enter your age 24\n"
        },
        {
          "name": "stdout",
          "output_type": "stream",
          "text": "You are adult\n"
        }
      ],
      "execution_count": 10
    },
    {
      "id": "747d11db-7451-45d1-9b3d-669f9388270c",
      "cell_type": "code",
      "source": "#Cart Empty Check\n#Given a list cart:\n\n#If empty → \"Your cart is empty\"\n\n#Else if length ≤ 3 → \"Small order\"\n\n#Else → \"Standard order\".\n\ncart = [\"shoe\", \"jacket\", \"Shirt\"]\n\nif len(cart) == 0:\n    print(\"your cart is empty\")\nelif len(cart) <= 3:\n    print(\"Small order\")\nelse:\n    print(\"standard order\")",
      "metadata": {
        "trusted": true
      },
      "outputs": [
        {
          "name": "stdout",
          "output_type": "stream",
          "text": "Small order\n"
        }
      ],
      "execution_count": 11
    },
    {
      "id": "61471163-7f0b-4fd9-9c03-ce251cea78a9",
      "cell_type": "code",
      "source": "#Variables: customer_type (e.g., \"regular\" / \"vip\"), bill_amount.\n#Rules:\n\n#VIP & bill ≥ 10000 → 15% discount\n\n#VIP otherwise → 10%\n\n#Regular & bill ≥ 8000 → 5%\n\n#Else no discount.\n#Print final amount.\n\ncustomer_type = input(\"Enter customer type\")\namount_bill = int(input(\"Enter your bill amount\"))\n\nif customer_type == \"VIP\" and amount_bill >= 10000:\n    discount_price = amount_bill/15\n    amount_bill -= discount_price\n    print(f\"Your total bill is {amount_bill} after getting 15% discount\")\nelif customer_type == \"VIP\" and amount_bill < 10000:\n    discount_price = amount_bill/10\n    amount_bill -= discount_price\n    print(f\"Your total bill is {amount_bill} after getting 10% discount\")\nelif customer_type == \"regular\" and amount_bill >= 8000:\n    discount_price = amount_bill/5\n    amount_bill -= discount_price\n    print(f\"Your total bill is {amount_bill} after getting 5% discount\")\nelse: \n    print(\"no discount\")\n",
      "metadata": {
        "trusted": true
      },
      "outputs": [
        {
          "output_type": "stream",
          "name": "stdin",
          "text": "Enter customer type VIP\nEnter your bill amount 1000\n"
        },
        {
          "name": "stdout",
          "output_type": "stream",
          "text": "Your total bill is 900.0 after getting 10% discount\n"
        }
      ],
      "execution_count": 20
    },
    {
      "id": "a8c1d409-63da-4a2a-847a-7dd5adc4e54a",
      "cell_type": "code",
      "source": "#Inventory Reorder Alert\n#Given a tuple (sku, name, stock_qty, reorder_level):\n\n#If stock_qty == 0 → \"OUT OF STOCK\"\n\n##Else if stock_qty <= reorder_level → \"Reorder Soon\"\n\n#Else → \"Stock OK\".\n\n\nproduct_inventory = (11, \"Shoes\", 20, 30)\nsku, name, stock_qty, reorder_level = product_inventory\nif stock_qty == 0:\n    print(\"out of stock\")\nelif stock_qty <= reorder_level:\n    print(\"reorder soon\")\nelse:\n    print(\"Stock ok\")",
      "metadata": {
        "trusted": true
      },
      "outputs": [
        {
          "name": "stdout",
          "output_type": "stream",
          "text": "reorder soon\n"
        }
      ],
      "execution_count": 23
    },
    {
      "id": "cbbd6f98-fe93-43d6-a800-3c2dd812c171",
      "cell_type": "code",
      "source": "#Password Strength (Simple)\n#Given a password string:\n\n#If length < 6 → \"Too short\"\n\n#Else if contains a space → \"Invalid (space not allowed)\"\n\n#Else if length ≥ 10 → \"Strong\"\n\n#Else → \"Acceptable\".\n\npassword = (input(\"Enter your password\"))\n\n\nif len(password) < 6:\n    print(\"too short\")\nelif \" \" in password:\n    print(\"Invalid\")\nelif len(password) >= 10:\n    print(\"strong\")\nelse:\n    print(\"Acceptable\")",
      "metadata": {
        "trusted": true
      },
      "outputs": [
        {
          "output_type": "stream",
          "name": "stdin",
          "text": "Enter your password 123 23\n"
        },
        {
          "name": "stdout",
          "output_type": "stream",
          "text": "Invalid\n"
        }
      ],
      "execution_count": 26
    },
    {
      "id": "a2502f88-e009-42eb-8840-808e2b1b4f35",
      "cell_type": "code",
      "source": "#List Membership Gate\n#Given allowed_countries = (\"Pakistan\", \"UAE\", \"UK\") (tuple) and a user-provided country:\n\n#If country in tuple → \"Service available\"\n\n#Else → \"Service not available\".\n\nmembership_country = input(\"Enter your membership country\")\nmembership_gate = (\"Pakistan\", \"UAE\", \"UK\")\n\nif membership_country in membership_gate:\n    print(\"service available\")\nelse:\n    print(\"service not available\")",
      "metadata": {
        "trusted": true
      },
      "outputs": [
        {
          "output_type": "stream",
          "name": "stdin",
          "text": "Enter your membership country pakistan\n"
        },
        {
          "name": "stdout",
          "output_type": "stream",
          "text": "service not available\n"
        }
      ],
      "execution_count": 32
    },
    {
      "id": "75c30b95-380b-460d-8fec-4dbd398ce30e",
      "cell_type": "code",
      "source": "#Even/Odd Tagging\n#Given two integers a and b, create a list labels = [].\n#Append \"A_even\" or \"A_odd\" based on a, then same for b.\n#Print labels.\nlabels = []\na = int(input(\"Enter your number\"))\nb = int(input(\"Enter your number\"))\n\nif a % 2 == 0:\n    labels.append(\"A_even\")\nelse:\n    labels.append(\"A_odd\")\n\nif b % 2 == 0:\n    labels.append(\"b_even\")\nelse:\n    labels.append(\"b_odd\")\n\nprint(labels)\n",
      "metadata": {
        "trusted": true
      },
      "outputs": [
        {
          "output_type": "stream",
          "name": "stdin",
          "text": "Enter your number 2\nEnter your number 3\n"
        },
        {
          "name": "stdout",
          "output_type": "stream",
          "text": "['A_even', 'b_odd']\n"
        }
      ],
      "execution_count": 34
    },
    {
      "id": "d4c302de-a96b-433d-aae1-57629a205cde",
      "cell_type": "code",
      "source": "#Price Validation\n#Given price_str (user input):\n\n#If not numeric (use appropriate string check) → \"Invalid price\"\n\n#Else convert to integer and:\n\n#If price ≤ 0 → \"Must be positive\"\n\n#Else → \"Recorded: X\".\n\nprice_str = (input(\"Enter product price\"))\n\nif not price_str.isnumeric():\n    print(\"Inalvid price\")\nelse:\n    price = int(price_str)\n    if price <= 0 :\n        print(\"Must be positive\")\n    else:\n        print(f\"Recorded = {price}\")",
      "metadata": {
        "trusted": true
      },
      "outputs": [
        {
          "output_type": "stream",
          "name": "stdin",
          "text": "Enter product price 0\n"
        },
        {
          "name": "stdout",
          "output_type": "stream",
          "text": "Must be positive\n"
        }
      ],
      "execution_count": 41
    },
    {
      "id": "cf6fd5d0-d790-4afd-9505-05f7cfbb69d6",
      "cell_type": "code",
      "source": "#Simple Access Tier\n#Variables: plan = \"basic\" | \"pro\" | \"enterprise\", users_count.\n#Rules:\n\n#basic allows ≤ 3 users\n\n#pro allows ≤ 10 users\n\n#enterprise allows any\n#Evaluate and print \"Allowed\" or \"Limit exceeded\".\n\nplan = input(\"Enter your plan\").lower()\nusers_count = int(input(\"Enter number of users\"))\n\nif plan == \"basic\":\n    if users_count <=3:\n        print(\"allowed\")\n    else:\n        print(\"limit exceeded\")\nelif plan == \"pro\":\n    if users_count <= 10:\n        print(\"allowed\")\n    else:\n        print(\"limit exceeded\")\nelif plan == \"enterprise\":\n    if users_count > 0 :\n        print(\"allowed\")\n\nelse:\n    print(\"Invalid plan\")",
      "metadata": {
        "trusted": true
      },
      "outputs": [
        {
          "output_type": "stream",
          "name": "stdin",
          "text": "Enter your plan Basic\nEnter number of users 3\n"
        },
        {
          "name": "stdout",
          "output_type": "stream",
          "text": "allowed\n"
        }
      ],
      "execution_count": 48
    },
    {
      "id": "935636d1-ba12-4b61-8ebd-404547d2e3ef",
      "cell_type": "code",
      "source": "#Tuple vs List Decision\n#You receive a flag is_fixed. If True you must store a small dataset of 3 values as a tuple; if False, store them as a list\n    #(same values). Print the resulting structure and its type.\n\nis_fixed = input(\"Enter your input\")\n\nif is_fixed == \"True\":\n    data = (10,20,30)\n    print(data)\n    print(type(data))\nelif is_fixed == \"False\":\n    data = [10,20,30]\n    print(data)\n    print(type(data))\nelse:\n    print(\"Invalid input\")",
      "metadata": {
        "trusted": true
      },
      "outputs": [
        {
          "output_type": "stream",
          "name": "stdin",
          "text": "Enter your input True\n"
        },
        {
          "name": "stdout",
          "output_type": "stream",
          "text": "(10, 20, 30)\n<class 'tuple'>\n"
        }
      ],
      "execution_count": 53
    },
    {
      "id": "ed8fe22a-4adb-4e2f-b13b-63cb0d15ead8",
      "cell_type": "code",
      "source": "#Order Eligibility\n#Given cart_total, is_first_order (bool):\n\n#If first order & total ≥ 2000 → apply 12% discount\n\n#Else if total ≥ 5000 → apply 8% discount\n\n#Else if total ≥ 3000 → apply 5%\n\n#Else → no discount.\n#Print discount amount and final total.\n\n\ncart_total = int(input(\"Enter your cart total\"))\nis_first_order = bool(input(\"Is this your first order True/False:\"))\nis_first_order = is_first_order == \"true\"\n\n\nif is_first_order == True:\n    if cart_total >= 2000:\n        discount_price = cart_total * 0.12\n        cart_total -= discount_price\n        print(f\" Your discount is {discount_price}\")\n        print(f\" Your cart totat is {cart_total}\")\n    else:\n        print(\"no discount\")\nelif is_first_order == False:\n    if cart_total >= 5000:\n        discount_price = cart_total * 0.08\n        cart_total -= discount_price\n        print(f\" Your discount is {discount_price}\")\n        print(f\" Your cart totat is {cart_total}\")\n    elif cart_total >= 3000:\n        discount_price = cart_total * 0.05\n        cart_total -= discount_price\n        print(f\" Your discount is {discount_price}\")\n        print(f\" Your cart totat is {cart_total}\")\n    else:\n        print(\"no discount\")\n\nprint(is_first_order)\n                    ",
      "metadata": {
        "trusted": true
      },
      "outputs": [
        {
          "output_type": "stream",
          "name": "stdin",
          "text": "Enter your cart total 1500\nIs this your first order True/False: False\n"
        },
        {
          "name": "stdout",
          "output_type": "stream",
          "text": "no discount\nFalse\n"
        }
      ],
      "execution_count": 65
    },
    {
      "id": "e4d18a4e-a21f-4f5a-8f56-27d4997847f6",
      "cell_type": "code",
      "source": "",
      "metadata": {
        "trusted": true
      },
      "outputs": [],
      "execution_count": null
    }
  ]
}