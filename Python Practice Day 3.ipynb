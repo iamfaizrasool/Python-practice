{
  "metadata": {
    "kernelspec": {
      "name": "python",
      "display_name": "Python (Pyodide)",
      "language": "python"
    },
    "language_info": {
      "codemirror_mode": {
        "name": "python",
        "version": 3
      },
      "file_extension": ".py",
      "mimetype": "text/x-python",
      "name": "python",
      "nbconvert_exporter": "python",
      "pygments_lexer": "ipython3",
      "version": "3.8"
    }
  },
  "nbformat_minor": 5,
  "nbformat": 4,
  "cells": [
    {
      "id": "81b655da-01f4-48b5-b8c2-5ab38a205746",
      "cell_type": "code",
      "source": "#1Grocery Shopping List\n#Create a list of 5 grocery items.\n\n#Print the first and last item.\n\n#Replace the second item with something else.\n\n#Append a new item at the end.\n\n#Remove one item using remove().\n\ngrocery_items = [\"oil\" , \"Rice\", \"Wheat\", \"Ketchup\", \"Tea\"]\nprint(grocery_items[0])\nprint(grocery_items[-1])\ngrocery_items[1]=\"Coconut\"\nprint(grocery_items)\ngrocery_items.append(\"Cream\")\nprint(grocery_items)\ngrocery_items.remove(\"Wheat\")\nprint(grocery_items)",
      "metadata": {
        "trusted": true
      },
      "outputs": [
        {
          "name": "stdout",
          "output_type": "stream",
          "text": "oil\nTea\n['oil', 'Coconut', 'Wheat', 'Ketchup', 'Tea']\n['oil', 'Coconut', 'Wheat', 'Ketchup', 'Tea', 'Cream']\n['oil', 'Coconut', 'Ketchup', 'Tea', 'Cream']\n"
        }
      ],
      "execution_count": 5
    },
    {
      "id": "48fa74ec-a47b-42ac-a71f-f642d4b98f15",
      "cell_type": "code",
      "source": "#2To-Do List Manager\n\n#Create a list of tasks you want to complete today.\n\n#Print how many tasks there are.\n\n#Mark the last task as done by removing it from the list.\n\n#Add a new task at the beginning using insert().\n\nTo_do_tasks = [\"Python practice\", \"Local SEO\", \"Webflow Development\", \"Walk\"]\n\nprint(len(To_do_tasks))\nTo_do_tasks.remove(\"Python practice\")\nprint(To_do_tasks)\nTo_do_tasks.insert(0, \"Afternoon nap\")\nprint(To_do_tasks)",
      "metadata": {
        "trusted": true
      },
      "outputs": [
        {
          "name": "stdout",
          "output_type": "stream",
          "text": "4\n['Local SEO', 'Webflow Development', 'Walk']\n['Afternoon nap', 'Local SEO', 'Webflow Development', 'Walk']\n"
        }
      ],
      "execution_count": 14
    },
    {
      "id": "0fa7504b-4a36-46fe-9530-3477b682f219",
      "cell_type": "code",
      "source": "#3Favorite Movies App\n\n#Store 4 of your favorite movies in a list.\n\n#Ask the user to input another movie and append() it.\n\n#Sort the list alphabetically and print it.\n\nfavorite_movies_app = [\"Spiderman\", \"Mission Impossible\", \"3 Idiots\", \"Tare Zameen par\"]\nuser_movie = input(\"Enter your favorite move\")\nfavorite_movies_app.append(user_movie)\nfavorite_movies_app.sort\nprint(favorite_movies_app)",
      "metadata": {
        "trusted": true
      },
      "outputs": [
        {
          "output_type": "stream",
          "name": "stdin",
          "text": "Enter your favorite move Harry Potter\n"
        },
        {
          "name": "stdout",
          "output_type": "stream",
          "text": "['Spiderman', 'Mission Impossible', '3 Idiots', 'Tare Zameen par', 'Harry Potter']\n"
        }
      ],
      "execution_count": 17
    },
    {
      "id": "089dd907-a7e7-4131-a76b-150fb0e90725",
      "cell_type": "code",
      "source": "#4Temperature Logger\n#Store the daily temperature of a week in a list.\n\n#Print the highest, lowest, and average temperature.\n\n#Bonus: Print the temperature of the 3rd day.\n\ntemperature_logger = [20, 27, 30, 33, 36, 28, 32]\nprint(max(temperature_logger))\nprint(min(temperature_logger))\naverage = sum(temperature_logger)/len(temperature_logger)\nprint(average)\nprint(temperature_logger[2])",
      "metadata": {
        "trusted": true
      },
      "outputs": [
        {
          "name": "stdout",
          "output_type": "stream",
          "text": "36\n20\n29.428571428571427\n30\n"
        }
      ],
      "execution_count": 26
    },
    {
      "id": "47c39d48-41a8-42f3-8247-4c4fa4e5c967",
      "cell_type": "code",
      "source": "#5Student Scores\n#A list contains student test scores: [85, 72, 90, 68, 88]\n\n#Add a new score: 95\n\n#Remove the lowest score\n\n#Sort the scores in descending order\n\nstudent_scores = [85,72,90,68,88]\nstudent_scores.append(95)\nprint(student_scores)\nstudent_scores.remove(min(student_scores))\nprint(student_scores)\nstudent_scores.sort(reverse= True)\nprint(student_scores)",
      "metadata": {
        "trusted": true
      },
      "outputs": [
        {
          "name": "stdout",
          "output_type": "stream",
          "text": "[85, 72, 90, 68, 88, 95]\n[85, 72, 90, 88, 95]\n[95, 90, 88, 85, 72]\n"
        }
      ],
      "execution_count": 32
    },
    {
      "id": "a314474e-b157-4bcf-a4e1-28184d1deba0",
      "cell_type": "code",
      "source": "#6Simple Cart System\n#Create a list called cart = []\n\n#Append 3 items: \"Shirt\", \"Shoes\", \"Watch\"\n\n#Ask the user what item they want to remove from the cart\n\n#Remove it using .remove() and print the updated cart\n\ncart = []\ncart.append(\"Shirt\")\ncart.append(\"Shoes\")\ncart.append(\"Watch\")\nremove_item = input(\"Which Item you want to remove from the car\")\ncart.remove(remove_item)\nprint(cart)",
      "metadata": {
        "trusted": true
      },
      "outputs": [
        {
          "output_type": "stream",
          "name": "stdin",
          "text": "Which Item you want to remove from the car Shirt\n"
        },
        {
          "name": "stdout",
          "output_type": "stream",
          "text": "['Shoes', 'Watch']\n"
        }
      ],
      "execution_count": 33
    },
    {
      "id": "0c1b8fb8-cccb-4443-9ac3-a81199a246d0",
      "cell_type": "code",
      "source": "#7Reverse the Order\n#You have a list of cities: [\"Lahore\", \"Karachi\", \"Islamabad\", \"Multan\"]\n\n#Print them in reverse order (without modifying the original list)\n\n#Then reverse the list permanently using .reverse()\n\ncities = [\"Lahore\", \"Karachi\", \"Islamabad\", \"Multan\"]\nnew_cities = cities.copy()\nnew_cities.sort(reverse = True)\nprint(new_cities)\nnew_cities.reverse()\nprint(new_cities)",
      "metadata": {
        "trusted": true
      },
      "outputs": [
        {
          "name": "stdout",
          "output_type": "stream",
          "text": "['Multan', 'Lahore', 'Karachi', 'Islamabad']\n['Islamabad', 'Karachi', 'Lahore', 'Multan']\n"
        }
      ],
      "execution_count": 40
    },
    {
      "id": "5db6da42-0a13-4152-a2c4-07c21792ba87",
      "cell_type": "code",
      "source": "#7Slicing Practice\n#From the list numbers = [10, 20, 30, 40, 50, 60, 70],\n\n#Print the first 3 numbers\n\n#Print the last 2 numbers\n\n#Print numbers from index 2 to 5\n\nnumbers = [10, 20, 30, 40, 50, 60, 70]\nprint(numbers[0:4])\nprint(numbers[-2:])\nprint(numbers[2:6])\n#first_three_numbers = numbers[0:4]\n#print(first_three_numbers)",
      "metadata": {
        "trusted": true
      },
      "outputs": [
        {
          "name": "stdout",
          "output_type": "stream",
          "text": "[10, 20, 30, 40]\n[60, 70]\n[30, 40, 50, 60]\n"
        }
      ],
      "execution_count": 50
    },
    {
      "id": "a9dc5691-46d5-4442-90e0-63575dab440e",
      "cell_type": "code",
      "source": "#8Compare List Lengths\n#You have two lists:\n\n#Print which list has more items.\n\nfruits = [\"apple\", \"banana\", \"mango\"]\n\nveggies = [\"carrot\", \"tomato\"]\n\n\nif len(fruits) > len(veggies):\n    print(\"Fruit list have more items\")\nelif len(veggies) > len(fruits):\n    print(\"Veggies list have more items\")\nelse:\n    print(\"Both lists have same number of items\")\n        \n",
      "metadata": {
        "trusted": true
      },
      "outputs": [
        {
          "name": "stdout",
          "output_type": "stream",
          "text": "Fruit list have more items\n"
        }
      ],
      "execution_count": 53
    },
    {
      "id": "2c15e055-79cd-4078-8822-cda686357262",
      "cell_type": "code",
      "source": "#9Attendance Tracker\n#Create an empty list called attendees.\n#Ask the user to enter 3 names of students who attended class.\n\n#Add them to the list using append()\n\n#Print the final list.\n\nattendees = []\n\nattendee_one = input(\"Enter three name of students\")\nattendee_two = input(\"Enter three name of students\")\nattendee_three = input(\"Enter three name of students\")\n\nattendees.append(attendee_one)\nattendees.append(attendee_two)\nattendees.append(attendee_three)\n\nprint(attendees)",
      "metadata": {
        "trusted": true
      },
      "outputs": [
        {
          "output_type": "stream",
          "name": "stdin",
          "text": "Enter three name of students Faiz\nEnter three name of students Usman\nEnter three name of students Awais\n"
        },
        {
          "name": "stdout",
          "output_type": "stream",
          "text": "['Faiz', 'Usman', 'Awais']\n"
        }
      ],
      "execution_count": 56
    },
    {
      "id": "4192efc0-a0eb-4b93-a7ff-cffc328adde5",
      "cell_type": "code",
      "source": "#10Keyword Search in List\n#You have a list of countries: [\"Pakistan\", \"India\", \"Nepal\", \"Bangladesh\", \"China\"]\n\n#Ask the user to input a country name.\n\n#Check if the country exists in the list using in. Print appropriate message.\n\ncountries = [\"Pakistan\", \"India\", \"Nepal\", \"Bangladesh\", \"China\"]\nyour_country = input(\"Enter your country name\")\nif your_country in countries:\n    print(\"Country name exists\")\nelse:\n    print(\"country name not exists\")\n    ",
      "metadata": {
        "trusted": true
      },
      "outputs": [
        {
          "output_type": "stream",
          "name": "stdin",
          "text": "Enter your country name Germany\n"
        },
        {
          "name": "stdout",
          "output_type": "stream",
          "text": "country name not exists\n"
        }
      ],
      "execution_count": 58
    },
    {
      "id": "23bddcc6-3ba2-4010-93ac-0928c62404a2",
      "cell_type": "code",
      "source": "#11Weekend Plan Manager\n\n#Create a list of places you'd like to visit this weekend.\n\n#Add one more place.\n\n#Print a message like:\n#\"You have 4 places to visit this weekend: Place1, Place2, ...\"\n\nplaces = [\"Skardu\", \"kashmir\", \"kumrat\", \"Naran\"]\nplaces.append(\"Murree\")\nprint(f\"You have four places to visit {places[0]}, {places[1]}, {places[2]} and {places[3]}\")",
      "metadata": {
        "trusted": true
      },
      "outputs": [
        {
          "name": "stdout",
          "output_type": "stream",
          "text": "You have four places to visit Skardu, kashmir, kumrat and Naran\n"
        }
      ],
      "execution_count": 60
    },
    {
      "id": "aa11a66f-b29e-4821-9d8d-7b38e30c15cf",
      "cell_type": "code",
      "source": "#12List with Mixed Data Types\n#Create a list that includes a string, an integer, a float, and a boolean.\n\n#Print each element with its data type using type().\n\ndata_types = [\"Ali\", 20, 15.0, True]\nprint(type(data_types[0]))\nprint(type(data_types[1]))\nprint(type(data_types[2]))\nprint(type(data_types[3]))\n",
      "metadata": {
        "trusted": true
      },
      "outputs": [
        {
          "name": "stdout",
          "output_type": "stream",
          "text": "<class 'str'>\n<class 'int'>\n<class 'float'>\n<class 'bool'>\n"
        }
      ],
      "execution_count": 61
    },
    {
      "id": "df65894d-a387-4503-af89-9e9f558ebcac",
      "cell_type": "code",
      "source": "#13Clear the List\n#You have a list of items in wishlist = [\"Phone\", \"Laptop\", \"Tablet\"]\n\n#Use .clear() to remove all items and print the empty list.\n\nwishlist = [\"Phone\", \"Laptop\", \"Tablet\"]\nwishlist.clear()\nprint(wishlist)",
      "metadata": {
        "trusted": true
      },
      "outputs": [
        {
          "name": "stdout",
          "output_type": "stream",
          "text": "[]\n"
        }
      ],
      "execution_count": 62
    },
    {
      "id": "fea48ce7-2df7-4a91-bdb0-5aceab400b5c",
      "cell_type": "code",
      "source": "#14Nested Lists (Advanced Beginner)\n\n#Create a list of students, where each student is a list of their name and score. Example: [['Ali', 90], ['Sara', 85]]\n\n#Print each student’s name and score using a loop.\n\nstudents = [\n    ['Ali', 90],\n    ['Ahmed', 80],\n    ['sara', 90],\n    ['fatima', 90]\n\n]\n\nfor i in students:\n    name = i[0]\n    marks = i[1]\n    print(name + \":\" + str(marks))",
      "metadata": {
        "trusted": true
      },
      "outputs": [
        {
          "name": "stdout",
          "output_type": "stream",
          "text": "Ali:90\nAhmed:80\nsara:90\nfatima:90\n"
        }
      ],
      "execution_count": 66
    },
    {
      "id": "f07e9864-1451-4efc-9167-aec6934c5abb",
      "cell_type": "code",
      "source": "#15\n\ntasks = [\"Exercise\", \"Study\", \"Clean room\", \"Buy groceries\", \"Read book\"]\n#removed_task = tasks.pop()\n#print(removed_task)\nprint(tasks.pop())",
      "metadata": {
        "trusted": true
      },
      "outputs": [
        {
          "name": "stdout",
          "output_type": "stream",
          "text": "Read book\n"
        }
      ],
      "execution_count": 69
    },
    {
      "id": "187c1126-6934-4dfe-8a37-f8a425e6505c",
      "cell_type": "code",
      "source": "",
      "metadata": {
        "trusted": true
      },
      "outputs": [],
      "execution_count": null
    }
  ]
}