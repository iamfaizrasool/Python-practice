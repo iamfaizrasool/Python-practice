{
  "metadata": {
    "kernelspec": {
      "name": "python",
      "display_name": "Python (Pyodide)",
      "language": "python"
    },
    "language_info": {
      "codemirror_mode": {
        "name": "python",
        "version": 3
      },
      "file_extension": ".py",
      "mimetype": "text/x-python",
      "name": "python",
      "nbconvert_exporter": "python",
      "pygments_lexer": "ipython3",
      "version": "3.8"
    }
  },
  "nbformat_minor": 5,
  "nbformat": 4,
  "cells": [
    {
      "id": "e5537174-42ea-4eae-9b19-959a4c6a67d6",
      "cell_type": "code",
      "source": "#User Profile Dictionary\n#Create a dictionary with keys: \"name\", \"age\", \"email\".\n\n#Print each key with its value in the format: Name: Ali.\n\n#Update the \"email\" key with a new email.\n\nuser_profile = { \"name\" : \"Faiz\", \"age\": 20 , \"email\" : \"Faiz.rasool.allied@gmail.com\"}\nuser_profile[\"email\"] = \"faiz.rasool.devv@gmail.com\"\nprint(user_profile)",
      "metadata": {
        "trusted": true
      },
      "outputs": [
        {
          "name": "stdout",
          "output_type": "stream",
          "text": "{'name': 'Faiz', 'age': 20, 'email': 'faiz.rasool.devv@gmail.com'}\n"
        }
      ],
      "execution_count": 3
    },
    {
      "id": "c7a51cf9-c43e-4cf4-b6c9-82a9b66c65bd",
      "cell_type": "code",
      "source": "#E-commerce Product Info\n#Create a dictionary for a product:\n\n#product = {\"name\": \"Laptop\", \"price\": 120000, \"stock\": 10}\n#Increase the stock by 5.\n\n#Print \"Product Laptop is available for Rs. 120000\".\n\nproduct = {\"name\": \"Laptop\", \"price\": 120000 , \"stock\": 10}\nproduct[\"stock\"] +=5\nprint(product)\nprint(f\"Product {product[\"name\"]} is available for Rs. {product[\"price\"]}\")",
      "metadata": {
        "trusted": true
      },
      "outputs": [
        {
          "name": "stdout",
          "output_type": "stream",
          "text": "{'name': 'Laptop', 'price': 120000, 'stock': 15}\nProduct Laptop is available for Rs. 120000\n"
        }
      ],
      "execution_count": 8
    },
    {
      "id": "494e6db6-e651-4966-a63b-2e4db78adb55",
      "cell_type": "code",
      "source": "#Word Frequency Counter (Static String)\n#Given a string: \"apple banana apple orange apple\",\n#create a dictionary that counts the occurrence of each word:\nstring = \"apple banana apple orange apple\"\nfruit_count = {\"apple\": string.count(\"apple\"), \"banana\": string.count(\"banana\"), \"orange\": string.count(\"orange\")}\nprint(fruit_count)",
      "metadata": {
        "trusted": true
      },
      "outputs": [
        {
          "name": "stdout",
          "output_type": "stream",
          "text": "{'apple': 3, 'banana': 1, 'orange': 1}\n"
        }
      ],
      "execution_count": 12
    },
    {
      "id": "b1b49905-f31a-4dc9-a74b-1a1fa984d601",
      "cell_type": "code",
      "source": "#Student Marks Lookup\n#Create a dictionary with students and their marks:\n\n\n#Ask for a student name (input).\n\n#Print the marks if the student exists; otherwise print \"Student not found\".\n\nstudents = {\"Ali\": 85, \"Sara\": 92, \"Zain\": 70}\nstudent_name = input(\"Enter the name of student\")\nif student_name in students:\n    print(f\"you have got {students[student_name]} marks\")\nelse:\n    print(\"student not found\")",
      "metadata": {
        "trusted": true
      },
      "outputs": [
        {
          "output_type": "stream",
          "name": "stdin",
          "text": "Enter the name of student Ali\n"
        },
        {
          "name": "stdout",
          "output_type": "stream",
          "text": "you have got 85 marks\n"
        }
      ],
      "execution_count": 14
    },
    {
      "id": "f41c7830-eeb1-4185-9fff-cff5a494d2dc",
      "cell_type": "code",
      "source": "#Update Prices in Bulk\n#Given a dictionary:\n\n#Increase every fruit price by 10%. Print updated prices.\n\nprices = {\"apple\": 100, \"banana\": 40, \"mango\": 60}\nfor fruit in prices:\n    prices[fruit] = prices[fruit] * 1.10 \nprint(prices)",
      "metadata": {
        "trusted": true
      },
      "outputs": [
        {
          "name": "stdout",
          "output_type": "stream",
          "text": "{'apple': 110.00000000000001, 'banana': 44.0, 'mango': 66.0}\n"
        }
      ],
      "execution_count": 17
    },
    {
      "id": "3e77ad6d-332d-4ec8-ba44-d20fd2fc4b32",
      "cell_type": "code",
      "source": "#Employee Department Mapping\n#Create a dictionary where keys are employee names and values are their departments:\n\n\ndepartment = {\"Ali\": \"HR\", \"Sara\": \"Finance\", \"Zain\": \"IT\", \"Faiz\": \"IT\"}\nfor name, depart in department.items():\n    if depart == \"IT\":\n        print(name)\n    ",
      "metadata": {
        "trusted": true
      },
      "outputs": [
        {
          "name": "stdout",
          "output_type": "stream",
          "text": "Zain\nFaiz\n"
        }
      ],
      "execution_count": 4
    },
    {
      "id": "4b88749a-872e-4f0b-bf1c-7b72b4c3ee07",
      "cell_type": "code",
      "source": "customers = {\n    \"cust_101\": {\"name\": \"Ali\", \"orders\": [\"Pizza\", \"Burger\"]},\n    \"cust_102\": {\"name\": \"Sara\", \"orders\": [\"Pasta\"]}\n}\ncustomers['cust_102']['orders'].append(\"Fries\")\nprint(customers)",
      "metadata": {
        "trusted": true
      },
      "outputs": [
        {
          "name": "stdout",
          "output_type": "stream",
          "text": "{'cust_101': {'name': 'Ali', 'orders': ['Pizza', 'Burger']}, 'cust_102': {'name': 'Sara', 'orders': ['Pasta', 'Fries']}}\n"
        }
      ],
      "execution_count": 7
    },
    {
      "id": "70a8ede2-f1bd-4001-a3a7-ddadc3a11579",
      "cell_type": "code",
      "source": "#Remove \"eraser\" using .pop() and print its value.\ninventory = {\"pen\": 50, \"notebook\": 20, \"eraser\": 30}\nremoved_item = inventory.pop('eraser')\nprint(removed_item)",
      "metadata": {
        "trusted": true
      },
      "outputs": [
        {
          "name": "stdout",
          "output_type": "stream",
          "text": "30\n"
        }
      ],
      "execution_count": 10
    },
    {
      "id": "c3822fe9-a0dc-4d2d-a4a4-77b80a4cec10",
      "cell_type": "code",
      "source": "#10. Convert Two Lists into Dictionary\n\n\nkeys = [\"name\", \"age\", \"city\"]\nvalues = [\"Ali\", 25, \"Lahore\"]\n\nzipped = zip(keys,values)\nprint(list(zipped))\nprint(dict(zip(keys,values)))",
      "metadata": {
        "trusted": true
      },
      "outputs": [
        {
          "name": "stdout",
          "output_type": "stream",
          "text": "[('name', 'Ali'), ('age', 25), ('city', 'Lahore')]\n{'name': 'Ali', 'age': 25, 'city': 'Lahore'}\n"
        }
      ],
      "execution_count": 16
    },
    {
      "id": "bb92258c-e7d1-44de-a33c-909b6dcc889f",
      "cell_type": "code",
      "source": "#8. Default Value with .get()\n#Safely fetch the key \"timezone\" with .get().\n#If not found, return \"Not Set\".\n\nconfig = {\"theme\": \"dark\", \"language\": \"English\"}\nconfig_new = config.get(\"timezone\", \"not set\")\nprint(config_new)\nprint(config)",
      "metadata": {
        "trusted": true
      },
      "outputs": [
        {
          "name": "stdout",
          "output_type": "stream",
          "text": "not set\n{'theme': 'dark', 'language': 'English'}\n"
        }
      ],
      "execution_count": 21
    },
    {
      "id": "1d376504-c354-4567-9416-3de4f2e8ab2d",
      "cell_type": "code",
      "source": "#11. Merge Two Dictionaries\n\ndict1 = {\"a\": 1, \"b\": 2}\ndict2 = {\"b\": 3, \"c\": 4}\n\nfinal_dict = (dict1 | dict2)\nprint(final_dict)\n",
      "metadata": {
        "trusted": true
      },
      "outputs": [
        {
          "name": "stdout",
          "output_type": "stream",
          "text": "{'a': 1, 'b': 3, 'c': 4}\n"
        }
      ],
      "execution_count": 26
    },
    {
      "id": "e1058207-5320-45ee-ae7d-12cd54ed082f",
      "cell_type": "code",
      "source": "#12. Most Expensive Product\n\nproducts = {\"Laptop\": 120000, \"Phone\": 70000, \"Tablet\": 45000}\n#for name, price in products.items():\n #   print(max(price))\nmost_expensive = max(products, key=products.get)\nprint(most_expensive)",
      "metadata": {
        "trusted": true
      },
      "outputs": [
        {
          "name": "stdout",
          "output_type": "stream",
          "text": "Laptop\n"
        }
      ],
      "execution_count": 34
    },
    {
      "id": "604a5e2e-ce99-4d6b-b9fc-63fec897a45f",
      "cell_type": "code",
      "source": "#13. Movie Rating System\n\n#Ask the user for a movie name.\n\n#If it exists, print its rating. Otherwise, allow them to add a new movie with a rating.\n\nmovies = {\"Inception\": 8.8, \"Avatar\": 7.9, \"Titanic\": 7.8}\nmovie_name = input(\"Enter the name of movie\")\n\nif movie_name in movies.keys():\n    print(movies[movie_name])\nelse:\n    print(\"Your desired movies is not exist. You can enter the movie name and rating below\")\n    new_movie = input(\"Enter the new movie\")\n    new_movie_rating = input(\"Enter the rating out of 10\")\n    movies[new_movie] = new_movie_rating\n\n    \nprint(movies)",
      "metadata": {
        "trusted": true
      },
      "outputs": [
        {
          "output_type": "stream",
          "name": "stdin",
          "text": "Enter the name of movie Lunchbox\n"
        },
        {
          "name": "stdout",
          "output_type": "stream",
          "text": "Your desired movies is not exist. You can enter the movie name and rating below\n"
        },
        {
          "output_type": "stream",
          "name": "stdin",
          "text": "Enter the new movie Lunchbox\nEnter the rating out of 10 10\n"
        },
        {
          "name": "stdout",
          "output_type": "stream",
          "text": "{'Inception': 8.8, 'Avatar': 7.9, 'Titanic': 7.8, 'Lunchbox': '10'}\n"
        }
      ],
      "execution_count": 40
    },
    {
      "id": "835a6b1b-2f31-4afb-a82b-08f2262b925e",
      "cell_type": "code",
      "source": "#Count Character Frequency in String\nword = \"programming\"\n\nfor w in set(word):\n    print(f\"{w} : {word.count(w)}\")\n    ",
      "metadata": {
        "trusted": true
      },
      "outputs": [
        {
          "name": "stdout",
          "output_type": "stream",
          "text": "p : 1\nr : 2\nm : 2\nn : 1\no : 1\ni : 1\ng : 2\na : 1\n"
        }
      ],
      "execution_count": 56
    },
    {
      "id": "46f1f997-0f68-4356-a653-938fb3088fff",
      "cell_type": "code",
      "source": "#15. Inventory Value Calculator\n#Calculate and print the total stock value (price × quantity for all items).\n\n\n\ninventory = {\"pen\": (20, 5), \"notebook\": (50, 2)}\n\nfor product, value in inventory.items():\n    stock_value = value[0] * value[1]\n    print(f\"{product} has stock value of ${stock_value}\")",
      "metadata": {
        "trusted": true
      },
      "outputs": [
        {
          "name": "stdout",
          "output_type": "stream",
          "text": "pen has stock value of $100\nnotebook has stock value of $100\n"
        }
      ],
      "execution_count": 57
    },
    {
      "id": "4501f1ab-a4e6-4fc2-818f-a31c93c91ed4",
      "cell_type": "code",
      "source": "",
      "metadata": {
        "trusted": true
      },
      "outputs": [],
      "execution_count": null
    }
  ]
}