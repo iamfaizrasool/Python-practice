{
  "metadata": {
    "kernelspec": {
      "name": "python",
      "display_name": "Python (Pyodide)",
      "language": "python"
    },
    "language_info": {
      "codemirror_mode": {
        "name": "python",
        "version": 3
      },
      "file_extension": ".py",
      "mimetype": "text/x-python",
      "name": "python",
      "nbconvert_exporter": "python",
      "pygments_lexer": "ipython3",
      "version": "3.8"
    }
  },
  "nbformat_minor": 5,
  "nbformat": 4,
  "cells": [
    {
      "id": "399bfd26-3aa2-4c40-9798-85264d77f45c",
      "cell_type": "code",
      "source": "#q1:Temperature Converter\n#Write a program that takes a temperature in Celsius (float) and converts it to Fahrenheit.\n\ntemperature = int(input(\"Enter your temperature in celcius\"))\ntemperature_F = (temperature * 1.8 ) + 32\nprint(f\"Temperaqture in Farenhiet is, {temperature_F}\")\n",
      "metadata": {
        "trusted": true
      },
      "outputs": [
        {
          "output_type": "stream",
          "name": "stdin",
          "text": "Enter your temperature in celcius 20\n"
        },
        {
          "name": "stdout",
          "output_type": "stream",
          "text": "Temperaqture in Farenhiet is, 68.0\n"
        }
      ],
      "execution_count": 5
    },
    {
      "id": "1f169eed-4bd4-49e9-a8f0-adace6b45f79",
      "cell_type": "code",
      "source": "#Q2: Age in Months\n#Ask the user for their age in years and print their age in months.\n\nuser_age = int(input(\"Enter your age\"))\nage_in_months = user_age * 12\nprint(f\"Your age in months are, {age_in_months}\")",
      "metadata": {
        "trusted": true
      },
      "outputs": [
        {
          "output_type": "stream",
          "name": "stdin",
          "text": "Enter your age 20\n"
        },
        {
          "name": "stdout",
          "output_type": "stream",
          "text": "Your age in months are, 240\n"
        }
      ],
      "execution_count": 8
    },
    {
      "id": "ffcd50ed-1b98-4e22-8c29-089b993da6bc",
      "cell_type": "code",
      "source": "#Q3:Bank Interest Calculation\n#Given a principal amount and annual interest rate, calculate the simple interest earned in one year.\n\nprincipal_amount = int(input(\"Enter your principal amount\"))\nannual_interest_rate = int(input(\"Enter percentage of simple interest\"))\ntime = 1\nsimple_interest = (principal_amount*annual_interest_rate*time)/100\nprint(f\"You have paid annual interest of , {simple_interest}$\")",
      "metadata": {
        "trusted": true
      },
      "outputs": [
        {
          "output_type": "stream",
          "name": "stdin",
          "text": "Enter your principal amount 5000\nEnter percentage of simple interest 20\n"
        },
        {
          "name": "stdout",
          "output_type": "stream",
          "text": "You have paid annual interest of , 1000.0$\n"
        }
      ],
      "execution_count": 11
    },
    {
      "id": "0174c419-ce27-4a2c-b5cf-b70a2fa1857a",
      "cell_type": "code",
      "source": "#Q4:A movie ticket costs $12.50. If 3 adults and 2 children go to the cinema, what’s the total cost?\n\nmovie_ticket = 12.50\nadults = 3\nchildren = 2\ntotal_people = adults + children\nprint(movie_ticket*total_people)\n",
      "metadata": {
        "trusted": true
      },
      "outputs": [
        {
          "name": "stdout",
          "output_type": "stream",
          "text": "62.5\n"
        }
      ],
      "execution_count": 14
    },
    {
      "id": "18634309-499e-485d-b340-7079df86869a",
      "cell_type": "code",
      "source": "#q5:String Info\n#Ask the user for their full name and print:\n\n#Total number of characters\n\n#The first and last character\n\n#All characters in uppercase\n\nname = str(input(\"Enter your name\"))\nprint(len(name))\nprint(name.upper())\nprint(name[0])\nprint(name[-1])\n\n",
      "metadata": {
        "trusted": true
      },
      "outputs": [
        {
          "output_type": "stream",
          "name": "stdin",
          "text": "Enter your name faiz\n"
        },
        {
          "name": "stdout",
          "output_type": "stream",
          "text": "4\nFAIZ\nf\nz\n"
        }
      ],
      "execution_count": 19
    },
    {
      "id": "2e1d94bb-4305-448d-b951-10f6364b2189",
      "cell_type": "code",
      "source": "#Q6: Boolean Check\n#A user enters their age. Write a program that returns True if they are 18 or older, False otherwise.\n\nuser_age = int(input(\"Enter your age\"))\nif user_age >= 18:\n    print('True')\nelse:\n    print(\"False\")",
      "metadata": {
        "trusted": true
      },
      "outputs": [
        {
          "output_type": "stream",
          "name": "stdin",
          "text": "Enter your age 15\n"
        },
        {
          "name": "stdout",
          "output_type": "stream",
          "text": "False\n"
        }
      ],
      "execution_count": 20
    },
    {
      "id": "291f5ae4-9b99-4d58-9b4b-23b806dd5a8d",
      "cell_type": "code",
      "source": "#Q7:Simple Receipt\n#Ask the user for 2 grocery item prices and print a formatted total bill:\n\nitem_one = int(input(\"Enter price of first item\"))\nitem_two = int(input(\"Enter price of second item\"))\nTotal_bill = item_one + item_two\nprint(f\"Your total bill is {Total_bill}$\")",
      "metadata": {
        "trusted": true
      },
      "outputs": [
        {
          "output_type": "stream",
          "name": "stdin",
          "text": "Enter price of first item 20\nEnter price of second item 59\n"
        },
        {
          "name": "stdout",
          "output_type": "stream",
          "text": "Your total bill is 79$\n"
        }
      ],
      "execution_count": 22
    },
    {
      "id": "c77d440d-d612-42fc-9012-3819e1d5fd31",
      "cell_type": "code",
      "source": "#Q8:Concatenation Game\n#Ask the user for their favorite color and animal, and print:\n\nfvrt_color = str(input(\"Enter your fvrt color\"))\nfvrt_animal = str(input(\"Enter your fvrt animal\"))\n\nprint(f\"your spirit animal is {fvrt_color} {fvrt_animal}\")",
      "metadata": {
        "trusted": true
      },
      "outputs": [
        {
          "output_type": "stream",
          "name": "stdin",
          "text": "Enter your fvrt color White\nEnter your fvrt animal Cat\n"
        },
        {
          "name": "stdout",
          "output_type": "stream",
          "text": "your spirit animal is White Cat\n"
        }
      ],
      "execution_count": 24
    },
    {
      "id": "43f8daa6-36c6-4d3d-9209-f5bbe16acd3c",
      "cell_type": "code",
      "source": "#Q9:Guess the Data Type\n#Assign variables with the following values and print their data types:\n\nstring = \"42\"\nInteger = 42\nFloat = 42.00\nBoolean = True\nNothing = None\n\nprint(type(string))\nprint(type(Integer))\nprint(type(Float))\nprint(type(Boolean))\nprint(type(Nothing))",
      "metadata": {
        "trusted": true
      },
      "outputs": [
        {
          "name": "stdout",
          "output_type": "stream",
          "text": "<class 'str'>\n<class 'int'>\n<class 'float'>\n<class 'bool'>\n<class 'NoneType'>\n"
        }
      ],
      "execution_count": 27
    },
    {
      "id": "bc9cbfee-9e85-4bd1-8721-072a21491cf8",
      "cell_type": "code",
      "source": "#Q10: Ask the user for two numbers. Then print the results of:\n\nnumber_one = int(input(\"Enter your number\"))\nnumber_two = int(input(\"Enter your number\"))\n\nprint(number_one + number_two)\nprint(number_one - number_two)\nprint(number_one * number_two)\nprint(number_one / number_two)\n\n                ",
      "metadata": {
        "trusted": true
      },
      "outputs": [
        {
          "output_type": "stream",
          "name": "stdin",
          "text": "Enter your number 20\nEnter your number 20\n"
        },
        {
          "name": "stdout",
          "output_type": "stream",
          "text": "40\n0\n400\n1.0\n"
        }
      ],
      "execution_count": 29
    },
    {
      "id": "5ab51819-bef3-4a62-8a95-e60e6076512e",
      "cell_type": "code",
      "source": "#Q11: Area of a Rectangle\n\nlength = 12.5\nwidth = 7.3\nArea = length * width \nprint(Area)",
      "metadata": {
        "trusted": true
      },
      "outputs": [
        {
          "name": "stdout",
          "output_type": "stream",
          "text": "91.25\n"
        }
      ],
      "execution_count": 30
    },
    {
      "id": "8b218eda-3168-4218-a8a9-0088e0cb2730",
      "cell_type": "code",
      "source": "#Q12:Text to Float\n#Convert the string \"19.99\" to a float and multiply it by 2.\n\nnumber = \"19.99\"\nfloat_number = float(number)\nfinal_number = float_number * 2\nprint(final_number)\nprint(type(final_number))",
      "metadata": {
        "trusted": true
      },
      "outputs": [
        {
          "name": "stdout",
          "output_type": "stream",
          "text": "39.98\n<class 'float'>\n"
        }
      ],
      "execution_count": 33
    },
    {
      "id": "134ae6c2-bceb-4b84-849e-255b722742a0",
      "cell_type": "code",
      "source": "#Q13: Type Conversion Practice\n#Ask the user for their age, then:\n\n#Store it as a string\n\n#Convert it to an integer\n\n#Add 10 years and print the result\n\nperson_age = input(\"Enter your age\")\nperson_age_int = int(person_age)\nfinal_person_age = person_age_int + 10\nprint(final_person_age)\nprint(type(person_age_int))",
      "metadata": {
        "trusted": true
      },
      "outputs": [
        {
          "output_type": "stream",
          "name": "stdin",
          "text": "Enter your age 20\n"
        },
        {
          "name": "stdout",
          "output_type": "stream",
          "text": "30\n<class 'int'>\n"
        }
      ],
      "execution_count": 36
    },
    {
      "id": "80ebb764-d321-472f-8ff5-9d99d3de1827",
      "cell_type": "code",
      "source": "#Q14:Word Repetition\n#Ask the user for a word and a number. Print the word that many times.\nword = input(\"Enter a word\")\nrepeat_number = int(input(\"Enter Your number\"))\nfor i in range(repeat_number):\n    print(word)\n    \n                          \n                          ",
      "metadata": {
        "trusted": true
      },
      "outputs": [
        {
          "output_type": "stream",
          "name": "stdin",
          "text": "Enter a word FaIZ\nEnter Your number 7\n"
        },
        {
          "name": "stdout",
          "output_type": "stream",
          "text": "FaIZ\nFaIZ\nFaIZ\nFaIZ\nFaIZ\nFaIZ\nFaIZ\n"
        }
      ],
      "execution_count": 39
    },
    {
      "id": "d9ab4d1c-814e-4f4d-a9cd-1a30337a97d6",
      "cell_type": "code",
      "source": "#Q15:Detect Numeric Input\n#Ask the user for input and print whether the input is numeric or not using .isnumeric().\n\nuser_input = input(\"Enter something here\")\nif user_input.isnumeric():\n    print(\"Yes, It is numeric.\")\nelse:\n    print(\"No, It is not numeric\")\n    ",
      "metadata": {
        "trusted": true
      },
      "outputs": [
        {
          "output_type": "stream",
          "name": "stdin",
          "text": "Enter something here faiz\n"
        },
        {
          "name": "stdout",
          "output_type": "stream",
          "text": "No, It is not numeric\n"
        }
      ],
      "execution_count": 41
    },
    {
      "id": "ee3e52c8-83ad-4bda-9cf5-53c9f413f5fa",
      "cell_type": "code",
      "source": "",
      "metadata": {
        "trusted": true
      },
      "outputs": [],
      "execution_count": null
    }
  ]
}